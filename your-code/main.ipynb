{
 "cells": [
  {
   "cell_type": "markdown",
   "metadata": {},
   "source": [
    "# StackAPI\n",
    "\n",
    "#### Import the necessary libraries here:"
   ]
  },
  {
   "cell_type": "code",
   "execution_count": 9,
   "metadata": {},
   "outputs": [],
   "source": [
    "# your code here\n",
    "from stackapi import StackAPI\n",
    "import datetime"
   ]
  },
  {
   "cell_type": "markdown",
   "metadata": {},
   "source": [
    "#### Question 1: Find the questions and answers of last month."
   ]
  },
  {
   "cell_type": "code",
   "execution_count": 32,
   "metadata": {},
   "outputs": [],
   "source": [
    "# your code here\n",
    "SITE = StackAPI('stackoverflow')\n",
    "questions = SITE.fetch('questions', fromdate = 1560257638)\n",
    "answers = SITE.fetch('answers', fromdate = 1560257638)\n"
   ]
  },
  {
   "cell_type": "markdown",
   "metadata": {},
   "source": [
    "#### Question 2: Find the most voted question today with at least a score of 5 and tagged with 'python'. "
   ]
  },
  {
   "cell_type": "code",
   "execution_count": 42,
   "metadata": {},
   "outputs": [
    {
     "data": {
      "text/plain": [
       "{'tags': ['c++', 'templates', 'c++20', 'c++-concepts'],\n",
       " 'owner': {'reputation': 2914,\n",
       "  'user_id': 4789373,\n",
       "  'user_type': 'registered',\n",
       "  'accept_rate': 86,\n",
       "  'profile_image': 'https://lh6.googleusercontent.com/-f_OQrxbHhFQ/AAAAAAAAAAI/AAAAAAAAABA/NY38t7ooQ5c/photo.jpg?sz=128',\n",
       "  'display_name': 'FalconUA',\n",
       "  'link': 'https://stackoverflow.com/users/4789373/falconua'},\n",
       " 'is_answered': True,\n",
       " 'view_count': 621,\n",
       " 'accepted_answer_id': 56980242,\n",
       " 'answer_count': 2,\n",
       " 'score': 10,\n",
       " 'last_activity_date': 1562850425,\n",
       " 'creation_date': 1562804495,\n",
       " 'last_edit_date': 1562830983,\n",
       " 'question_id': 56980155,\n",
       " 'link': 'https://stackoverflow.com/questions/56980155/c20-concepts-of-multiple-types-and-its-constraint-correct-syntax',\n",
       " 'title': 'c++20: Concepts of multiple types and its constraint, correct syntax?'}"
      ]
     },
     "execution_count": 42,
     "metadata": {},
     "output_type": "execute_result"
    }
   ],
   "source": [
    "# your code here\n",
    "voted_question = SITE.fetch('questions', tag='python', fromdate = 1562796000, min=5, sort='votes')\n",
    "voted_question['items'][0]"
   ]
  },
  {
   "cell_type": "markdown",
   "metadata": {},
   "source": [
    "#### Question 3: Find the answers with id 6784 and 6473."
   ]
  },
  {
   "cell_type": "code",
   "execution_count": 29,
   "metadata": {},
   "outputs": [],
   "source": [
    "# your code here\n",
    "ids = SITE.fetch('answers', ids=[6784, 6473])"
   ]
  },
  {
   "cell_type": "code",
   "execution_count": 30,
   "metadata": {},
   "outputs": [
    {
     "data": {
      "text/plain": [
       "{'backoff': 0,\n",
       " 'has_more': False,\n",
       " 'page': 1,\n",
       " 'quota_max': 300,\n",
       " 'quota_remaining': 300,\n",
       " 'total': 0,\n",
       " 'items': [{'owner': {'reputation': 22234,\n",
       "    'user_id': 758,\n",
       "    'user_type': 'registered',\n",
       "    'accept_rate': 77,\n",
       "    'profile_image': 'https://www.gravatar.com/avatar/0b4adc19284ed0751844d610555dc6b2?s=128&d=identicon&r=PG',\n",
       "    'display_name': 'Mark Renouf',\n",
       "    'link': 'https://stackoverflow.com/users/758/mark-renouf'},\n",
       "   'is_accepted': False,\n",
       "   'score': 0,\n",
       "   'last_activity_date': 1218291583,\n",
       "   'creation_date': 1218291583,\n",
       "   'answer_id': 6784,\n",
       "   'question_id': 6778}]}"
      ]
     },
     "execution_count": 30,
     "metadata": {},
     "output_type": "execute_result"
    }
   ],
   "source": [
    "ids"
   ]
  },
  {
   "cell_type": "code",
   "execution_count": null,
   "metadata": {},
   "outputs": [],
   "source": []
  }
 ],
 "metadata": {
  "kernelspec": {
   "display_name": "Ironhack",
   "language": "python",
   "name": "py3"
  },
  "language_info": {
   "codemirror_mode": {
    "name": "ipython",
    "version": 3
   },
   "file_extension": ".py",
   "mimetype": "text/x-python",
   "name": "python",
   "nbconvert_exporter": "python",
   "pygments_lexer": "ipython3",
   "version": "3.7.3"
  }
 },
 "nbformat": 4,
 "nbformat_minor": 2
}
